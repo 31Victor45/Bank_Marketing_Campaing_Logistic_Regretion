{
 "cells": [
  {
   "cell_type": "markdown",
   "id": "c522a169",
   "metadata": {},
   "source": [
    "# Descripción de Variables del Dataset \"Bank Marketing\"\n",
    "\n",
    "\n",
    "El dataset \"Bank Marketing\" del UCI Machine Learning Repository contiene variables\n",
    "de entrada relacionadas con los clientes de un banco, el último contacto de la\n",
    "campaña actual, y otros atributos. La variable de salida indica si el cliente\n",
    "se suscribió a un depósito a término.\n",
    "\n",
    "\n",
    "### Variables de Entrada (Predictoras):\n",
    "\n",
    "\n",
    "- **age**: Edad del cliente (numérica).\n",
    "- **job**: Tipo de trabajo del cliente (categórica: \"admin.\", \"unknown\", \"unemployed\",\n",
    "  \"management\", \"housemaid\", \"entrepreneur\", \"student\", \"blue-collar\",\n",
    "  \"self-employed\", \"retired\", \"technician\", \"services\").\n",
    "- **marital**: Estado civil del cliente (categórica: \"married\", \"divorced\", \"single\").\n",
    "- **education**: Nivel educativo del cliente (categórica: \"unknown\", \"secondary\",\n",
    "  \"primary\", \"tertiary\").\n",
    "- **default**: ¿Tiene crédito en default? (binaria: \"yes\", \"no\").\n",
    "- **balance**: Saldo promedio anual en euros (numérica).\n",
    "- **housing**: ¿Tiene un préstamo de vivienda? (binaria: \"yes\", \"no\").\n",
    "- **loan**: ¿Tiene un préstamo personal? (binaria: \"yes\", \"no\").\n",
    "- **contact**: Tipo de comunicación de contacto (categórica: \"unknown\", \"telephone\", \"cellular\").\n",
    "- **day**: Día del mes del último contacto (numérica: 1 a 31).\n",
    "- **month**: Mes del año del último contacto (categórica: \"jan\", \"feb\", \"mar\", ..., \"dec\").\n",
    "- **duration**: Duración del último contacto en segundos (numérica).\n",
    "    - *Importante:* Este atributo afecta fuertemente el objetivo y debe ser\n",
    "      descartado si el objetivo es un modelo predictivo \"realista\", ya que\n",
    "      la duración del contacto no se conoce antes de que se realice la llamada.\n",
    "- **campaign**: Número de contactos realizados durante la campaña actual para\n",
    "  este cliente (numérica, incluye el último contacto).\n",
    "- **pdays**: Número de días desde el último contacto de una campaña anterior\n",
    "  (numérica: -1 si el cliente no fue contactado previamente).\n",
    "- **previous**: Número de contactos realizados antes de esta campaña para este\n",
    "  cliente (numérica).\n",
    "- **poutcome**: Resultado de la campaña de marketing anterior (categórica:\n",
    "  \"unknown\", \"other\", \"failure\", \"success\").\n",
    "\n",
    "\n",
    "### Variable de Salida (Objetivo):\n",
    "\n",
    "\n",
    "- **y**: ¿El cliente se suscribió a un depósito a término? (binaria: \"yes\", \"no\").\n"
   ]
  }
 ],
 "metadata": {
  "language_info": {
   "name": "python"
  }
 },
 "nbformat": 4,
 "nbformat_minor": 5
}
