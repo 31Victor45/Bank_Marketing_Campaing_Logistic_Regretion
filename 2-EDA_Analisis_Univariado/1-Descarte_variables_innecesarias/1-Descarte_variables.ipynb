{
 "cells": [
  {
   "cell_type": "markdown",
   "id": "de06da5c",
   "metadata": {},
   "source": [
    "# Un descarte necesario\n",
    "\n",
    "Una vez di el primer vistazo al dataset y siguiendo la expericia de otros expertos en el tema, decidi eliminar una variable que no aportaria al futuro modelo que busca predecir si un cliente creara o no una cuenta de ahora depues de la campana de marketing "
   ]
  },
  {
   "cell_type": "code",
   "execution_count": 2,
   "id": "d27f66fe",
   "metadata": {},
   "outputs": [],
   "source": [
    "# Importamos las librerias necesarias\n",
    "import pandas as pd\n",
    "import numpy as np\n"
   ]
  },
  {
   "cell_type": "code",
   "execution_count": 3,
   "id": "56fdd313",
   "metadata": {},
   "outputs": [],
   "source": [
    "# Cargamos el dataset\n",
    "df_bank = pd.read_csv(\"bank.csv\")"
   ]
  },
  {
   "cell_type": "code",
   "execution_count": 4,
   "id": "11658c8c",
   "metadata": {},
   "outputs": [
    {
     "data": {
      "application/vnd.microsoft.datawrangler.viewer.v0+json": {
       "columns": [
        {
         "name": "index",
         "rawType": "int64",
         "type": "integer"
        },
        {
         "name": "age",
         "rawType": "int64",
         "type": "integer"
        },
        {
         "name": "job",
         "rawType": "object",
         "type": "string"
        },
        {
         "name": "marital",
         "rawType": "object",
         "type": "string"
        },
        {
         "name": "education",
         "rawType": "object",
         "type": "string"
        },
        {
         "name": "default",
         "rawType": "object",
         "type": "string"
        },
        {
         "name": "balance",
         "rawType": "int64",
         "type": "integer"
        },
        {
         "name": "housing",
         "rawType": "object",
         "type": "string"
        },
        {
         "name": "loan",
         "rawType": "object",
         "type": "string"
        },
        {
         "name": "contact",
         "rawType": "object",
         "type": "string"
        },
        {
         "name": "day",
         "rawType": "int64",
         "type": "integer"
        },
        {
         "name": "month",
         "rawType": "object",
         "type": "string"
        },
        {
         "name": "duration",
         "rawType": "int64",
         "type": "integer"
        },
        {
         "name": "campaign",
         "rawType": "int64",
         "type": "integer"
        },
        {
         "name": "pdays",
         "rawType": "int64",
         "type": "integer"
        },
        {
         "name": "previous",
         "rawType": "int64",
         "type": "integer"
        },
        {
         "name": "poutcome",
         "rawType": "object",
         "type": "string"
        },
        {
         "name": "y",
         "rawType": "object",
         "type": "string"
        }
       ],
       "ref": "87d1ea34-b5e0-4d40-b901-e82896116c33",
       "rows": [
        [
         "0",
         "30",
         "unemployed",
         "married",
         "primary",
         "no",
         "1787",
         "no",
         "no",
         "cellular",
         "19",
         "oct",
         "79",
         "1",
         "-1",
         "0",
         "unknown",
         "no"
        ],
        [
         "1",
         "33",
         "services",
         "married",
         "secondary",
         "no",
         "4789",
         "yes",
         "yes",
         "cellular",
         "11",
         "may",
         "220",
         "1",
         "339",
         "4",
         "failure",
         "no"
        ],
        [
         "2",
         "35",
         "management",
         "single",
         "tertiary",
         "no",
         "1350",
         "yes",
         "no",
         "cellular",
         "16",
         "apr",
         "185",
         "1",
         "330",
         "1",
         "failure",
         "no"
        ],
        [
         "3",
         "30",
         "management",
         "married",
         "tertiary",
         "no",
         "1476",
         "yes",
         "yes",
         "unknown",
         "3",
         "jun",
         "199",
         "4",
         "-1",
         "0",
         "unknown",
         "no"
        ]
       ],
       "shape": {
        "columns": 17,
        "rows": 4
       }
      },
      "text/html": [
       "<div>\n",
       "<style scoped>\n",
       "    .dataframe tbody tr th:only-of-type {\n",
       "        vertical-align: middle;\n",
       "    }\n",
       "\n",
       "    .dataframe tbody tr th {\n",
       "        vertical-align: top;\n",
       "    }\n",
       "\n",
       "    .dataframe thead th {\n",
       "        text-align: right;\n",
       "    }\n",
       "</style>\n",
       "<table border=\"1\" class=\"dataframe\">\n",
       "  <thead>\n",
       "    <tr style=\"text-align: right;\">\n",
       "      <th></th>\n",
       "      <th>age</th>\n",
       "      <th>job</th>\n",
       "      <th>marital</th>\n",
       "      <th>education</th>\n",
       "      <th>default</th>\n",
       "      <th>balance</th>\n",
       "      <th>housing</th>\n",
       "      <th>loan</th>\n",
       "      <th>contact</th>\n",
       "      <th>day</th>\n",
       "      <th>month</th>\n",
       "      <th>duration</th>\n",
       "      <th>campaign</th>\n",
       "      <th>pdays</th>\n",
       "      <th>previous</th>\n",
       "      <th>poutcome</th>\n",
       "      <th>y</th>\n",
       "    </tr>\n",
       "  </thead>\n",
       "  <tbody>\n",
       "    <tr>\n",
       "      <th>0</th>\n",
       "      <td>30</td>\n",
       "      <td>unemployed</td>\n",
       "      <td>married</td>\n",
       "      <td>primary</td>\n",
       "      <td>no</td>\n",
       "      <td>1787</td>\n",
       "      <td>no</td>\n",
       "      <td>no</td>\n",
       "      <td>cellular</td>\n",
       "      <td>19</td>\n",
       "      <td>oct</td>\n",
       "      <td>79</td>\n",
       "      <td>1</td>\n",
       "      <td>-1</td>\n",
       "      <td>0</td>\n",
       "      <td>unknown</td>\n",
       "      <td>no</td>\n",
       "    </tr>\n",
       "    <tr>\n",
       "      <th>1</th>\n",
       "      <td>33</td>\n",
       "      <td>services</td>\n",
       "      <td>married</td>\n",
       "      <td>secondary</td>\n",
       "      <td>no</td>\n",
       "      <td>4789</td>\n",
       "      <td>yes</td>\n",
       "      <td>yes</td>\n",
       "      <td>cellular</td>\n",
       "      <td>11</td>\n",
       "      <td>may</td>\n",
       "      <td>220</td>\n",
       "      <td>1</td>\n",
       "      <td>339</td>\n",
       "      <td>4</td>\n",
       "      <td>failure</td>\n",
       "      <td>no</td>\n",
       "    </tr>\n",
       "    <tr>\n",
       "      <th>2</th>\n",
       "      <td>35</td>\n",
       "      <td>management</td>\n",
       "      <td>single</td>\n",
       "      <td>tertiary</td>\n",
       "      <td>no</td>\n",
       "      <td>1350</td>\n",
       "      <td>yes</td>\n",
       "      <td>no</td>\n",
       "      <td>cellular</td>\n",
       "      <td>16</td>\n",
       "      <td>apr</td>\n",
       "      <td>185</td>\n",
       "      <td>1</td>\n",
       "      <td>330</td>\n",
       "      <td>1</td>\n",
       "      <td>failure</td>\n",
       "      <td>no</td>\n",
       "    </tr>\n",
       "    <tr>\n",
       "      <th>3</th>\n",
       "      <td>30</td>\n",
       "      <td>management</td>\n",
       "      <td>married</td>\n",
       "      <td>tertiary</td>\n",
       "      <td>no</td>\n",
       "      <td>1476</td>\n",
       "      <td>yes</td>\n",
       "      <td>yes</td>\n",
       "      <td>unknown</td>\n",
       "      <td>3</td>\n",
       "      <td>jun</td>\n",
       "      <td>199</td>\n",
       "      <td>4</td>\n",
       "      <td>-1</td>\n",
       "      <td>0</td>\n",
       "      <td>unknown</td>\n",
       "      <td>no</td>\n",
       "    </tr>\n",
       "  </tbody>\n",
       "</table>\n",
       "</div>"
      ],
      "text/plain": [
       "   age         job  marital  education default  balance housing loan  \\\n",
       "0   30  unemployed  married    primary      no     1787      no   no   \n",
       "1   33    services  married  secondary      no     4789     yes  yes   \n",
       "2   35  management   single   tertiary      no     1350     yes   no   \n",
       "3   30  management  married   tertiary      no     1476     yes  yes   \n",
       "\n",
       "    contact  day month  duration  campaign  pdays  previous poutcome   y  \n",
       "0  cellular   19   oct        79         1     -1         0  unknown  no  \n",
       "1  cellular   11   may       220         1    339         4  failure  no  \n",
       "2  cellular   16   apr       185         1    330         1  failure  no  \n",
       "3   unknown    3   jun       199         4     -1         0  unknown  no  "
      ]
     },
     "execution_count": 4,
     "metadata": {},
     "output_type": "execute_result"
    }
   ],
   "source": [
    "df_bank = pd.read_csv(\"bank.csv\", sep=';') # El uso se sep ';' se debe a que los datos estan separados por ;\n",
    "df_bank.head(4)"
   ]
  },
  {
   "cell_type": "code",
   "execution_count": 5,
   "id": "ff07931b",
   "metadata": {},
   "outputs": [
    {
     "data": {
      "application/vnd.microsoft.datawrangler.viewer.v0+json": {
       "columns": [
        {
         "name": "index",
         "rawType": "int64",
         "type": "integer"
        },
        {
         "name": "age",
         "rawType": "int64",
         "type": "integer"
        },
        {
         "name": "job",
         "rawType": "object",
         "type": "string"
        },
        {
         "name": "marital",
         "rawType": "object",
         "type": "string"
        },
        {
         "name": "education",
         "rawType": "object",
         "type": "string"
        },
        {
         "name": "default",
         "rawType": "object",
         "type": "string"
        },
        {
         "name": "balance",
         "rawType": "int64",
         "type": "integer"
        },
        {
         "name": "housing",
         "rawType": "object",
         "type": "string"
        },
        {
         "name": "loan",
         "rawType": "object",
         "type": "string"
        },
        {
         "name": "contact",
         "rawType": "object",
         "type": "string"
        },
        {
         "name": "day",
         "rawType": "int64",
         "type": "integer"
        },
        {
         "name": "month",
         "rawType": "object",
         "type": "string"
        },
        {
         "name": "campaign",
         "rawType": "int64",
         "type": "integer"
        },
        {
         "name": "pdays",
         "rawType": "int64",
         "type": "integer"
        },
        {
         "name": "previous",
         "rawType": "int64",
         "type": "integer"
        },
        {
         "name": "poutcome",
         "rawType": "object",
         "type": "string"
        },
        {
         "name": "y",
         "rawType": "object",
         "type": "string"
        }
       ],
       "ref": "d0409308-d136-43aa-8117-a86161efcfda",
       "rows": [
        [
         "0",
         "30",
         "unemployed",
         "married",
         "primary",
         "no",
         "1787",
         "no",
         "no",
         "cellular",
         "19",
         "oct",
         "1",
         "-1",
         "0",
         "unknown",
         "no"
        ],
        [
         "1",
         "33",
         "services",
         "married",
         "secondary",
         "no",
         "4789",
         "yes",
         "yes",
         "cellular",
         "11",
         "may",
         "1",
         "339",
         "4",
         "failure",
         "no"
        ],
        [
         "2",
         "35",
         "management",
         "single",
         "tertiary",
         "no",
         "1350",
         "yes",
         "no",
         "cellular",
         "16",
         "apr",
         "1",
         "330",
         "1",
         "failure",
         "no"
        ],
        [
         "3",
         "30",
         "management",
         "married",
         "tertiary",
         "no",
         "1476",
         "yes",
         "yes",
         "unknown",
         "3",
         "jun",
         "4",
         "-1",
         "0",
         "unknown",
         "no"
        ]
       ],
       "shape": {
        "columns": 16,
        "rows": 4
       }
      },
      "text/html": [
       "<div>\n",
       "<style scoped>\n",
       "    .dataframe tbody tr th:only-of-type {\n",
       "        vertical-align: middle;\n",
       "    }\n",
       "\n",
       "    .dataframe tbody tr th {\n",
       "        vertical-align: top;\n",
       "    }\n",
       "\n",
       "    .dataframe thead th {\n",
       "        text-align: right;\n",
       "    }\n",
       "</style>\n",
       "<table border=\"1\" class=\"dataframe\">\n",
       "  <thead>\n",
       "    <tr style=\"text-align: right;\">\n",
       "      <th></th>\n",
       "      <th>age</th>\n",
       "      <th>job</th>\n",
       "      <th>marital</th>\n",
       "      <th>education</th>\n",
       "      <th>default</th>\n",
       "      <th>balance</th>\n",
       "      <th>housing</th>\n",
       "      <th>loan</th>\n",
       "      <th>contact</th>\n",
       "      <th>day</th>\n",
       "      <th>month</th>\n",
       "      <th>campaign</th>\n",
       "      <th>pdays</th>\n",
       "      <th>previous</th>\n",
       "      <th>poutcome</th>\n",
       "      <th>y</th>\n",
       "    </tr>\n",
       "  </thead>\n",
       "  <tbody>\n",
       "    <tr>\n",
       "      <th>0</th>\n",
       "      <td>30</td>\n",
       "      <td>unemployed</td>\n",
       "      <td>married</td>\n",
       "      <td>primary</td>\n",
       "      <td>no</td>\n",
       "      <td>1787</td>\n",
       "      <td>no</td>\n",
       "      <td>no</td>\n",
       "      <td>cellular</td>\n",
       "      <td>19</td>\n",
       "      <td>oct</td>\n",
       "      <td>1</td>\n",
       "      <td>-1</td>\n",
       "      <td>0</td>\n",
       "      <td>unknown</td>\n",
       "      <td>no</td>\n",
       "    </tr>\n",
       "    <tr>\n",
       "      <th>1</th>\n",
       "      <td>33</td>\n",
       "      <td>services</td>\n",
       "      <td>married</td>\n",
       "      <td>secondary</td>\n",
       "      <td>no</td>\n",
       "      <td>4789</td>\n",
       "      <td>yes</td>\n",
       "      <td>yes</td>\n",
       "      <td>cellular</td>\n",
       "      <td>11</td>\n",
       "      <td>may</td>\n",
       "      <td>1</td>\n",
       "      <td>339</td>\n",
       "      <td>4</td>\n",
       "      <td>failure</td>\n",
       "      <td>no</td>\n",
       "    </tr>\n",
       "    <tr>\n",
       "      <th>2</th>\n",
       "      <td>35</td>\n",
       "      <td>management</td>\n",
       "      <td>single</td>\n",
       "      <td>tertiary</td>\n",
       "      <td>no</td>\n",
       "      <td>1350</td>\n",
       "      <td>yes</td>\n",
       "      <td>no</td>\n",
       "      <td>cellular</td>\n",
       "      <td>16</td>\n",
       "      <td>apr</td>\n",
       "      <td>1</td>\n",
       "      <td>330</td>\n",
       "      <td>1</td>\n",
       "      <td>failure</td>\n",
       "      <td>no</td>\n",
       "    </tr>\n",
       "    <tr>\n",
       "      <th>3</th>\n",
       "      <td>30</td>\n",
       "      <td>management</td>\n",
       "      <td>married</td>\n",
       "      <td>tertiary</td>\n",
       "      <td>no</td>\n",
       "      <td>1476</td>\n",
       "      <td>yes</td>\n",
       "      <td>yes</td>\n",
       "      <td>unknown</td>\n",
       "      <td>3</td>\n",
       "      <td>jun</td>\n",
       "      <td>4</td>\n",
       "      <td>-1</td>\n",
       "      <td>0</td>\n",
       "      <td>unknown</td>\n",
       "      <td>no</td>\n",
       "    </tr>\n",
       "  </tbody>\n",
       "</table>\n",
       "</div>"
      ],
      "text/plain": [
       "   age         job  marital  education default  balance housing loan  \\\n",
       "0   30  unemployed  married    primary      no     1787      no   no   \n",
       "1   33    services  married  secondary      no     4789     yes  yes   \n",
       "2   35  management   single   tertiary      no     1350     yes   no   \n",
       "3   30  management  married   tertiary      no     1476     yes  yes   \n",
       "\n",
       "    contact  day month  campaign  pdays  previous poutcome   y  \n",
       "0  cellular   19   oct         1     -1         0  unknown  no  \n",
       "1  cellular   11   may         1    339         4  failure  no  \n",
       "2  cellular   16   apr         1    330         1  failure  no  \n",
       "3   unknown    3   jun         4     -1         0  unknown  no  "
      ]
     },
     "execution_count": 5,
     "metadata": {},
     "output_type": "execute_result"
    }
   ],
   "source": [
    "# Eliminamos la variable duration\n",
    "df_bank = df_bank.drop('duration', axis=1)\n",
    "df_bank.head(4)"
   ]
  },
  {
   "cell_type": "markdown",
   "id": "cc88e4e2",
   "metadata": {},
   "source": [
    "### Por que elimine duration del dataset ?\n",
    "\n",
    "La columna 'duration' es una fuga de datos (data leakage) si el objetivo es un modelo predictivo para nuevas llamadas. Deberemos decidir si la eliminamos o la usamos solo para un análisis exploratorio. Para un modelo de predicción, se debería eliminar por tanto hemos decidido eliminarla desde el inicio\n",
    "\n",
    "Tambien cambiaremos el nombre de la comlumna 'y' por el de 'get_account_?' para que sea mas intuitiva la interpretacion de los datos en el analisis exploratorio"
   ]
  },
  {
   "cell_type": "code",
   "execution_count": 6,
   "id": "9f30f78c",
   "metadata": {},
   "outputs": [],
   "source": [
    "df_bank = df_bank.rename(columns={'y': 'get_account_?'})"
   ]
  },
  {
   "cell_type": "markdown",
   "id": "0fd3fb5c",
   "metadata": {},
   "source": [
    "Ahora una vez hecho todo lo anterior guardaremos en un csv el nuevo dataset pero ahora separado por comas (,) y sin la columna duration"
   ]
  },
  {
   "cell_type": "code",
   "execution_count": 7,
   "id": "88da3e23",
   "metadata": {},
   "outputs": [],
   "source": [
    "df_bank.to_csv(\"bank_ready.csv\", index=False)"
   ]
  },
  {
   "cell_type": "markdown",
   "id": "e8f95bd5",
   "metadata": {},
   "source": [
    "Con esta accion realizada ya estamos listos para hacer un analisis univariado de las variables de nuestro nuevo dataset 'bank_ready'"
   ]
  }
 ],
 "metadata": {
  "kernelspec": {
   "display_name": "base",
   "language": "python",
   "name": "python3"
  },
  "language_info": {
   "codemirror_mode": {
    "name": "ipython",
    "version": 3
   },
   "file_extension": ".py",
   "mimetype": "text/x-python",
   "name": "python",
   "nbconvert_exporter": "python",
   "pygments_lexer": "ipython3",
   "version": "3.12.7"
  }
 },
 "nbformat": 4,
 "nbformat_minor": 5
}
